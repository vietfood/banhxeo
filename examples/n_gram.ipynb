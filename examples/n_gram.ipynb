{
 "cells": [
  {
   "cell_type": "code",
   "execution_count": 1,
   "id": "ce9d895a",
   "metadata": {},
   "outputs": [],
   "source": [
    "from banhxeo.dataset import IMDBDataset\n",
    "from banhxeo.core.tokenizer import NLTKTokenizer\n",
    "from banhxeo.core.vocabulary import Vocabulary\n",
    "from banhxeo.dataset.transforms import (\n",
    "    RemoveHTMLTag,\n",
    "    RemovePunctuation,\n",
    "    RemoveURL,\n",
    "    Strip,\n",
    ")\n",
    "from banhxeo.models.prob.n_gram import NGram"
   ]
  },
  {
   "cell_type": "markdown",
   "id": "7175dd2e",
   "metadata": {},
   "source": [
    "### Create raw dataset"
   ]
  },
  {
   "cell_type": "code",
   "execution_count": 2,
   "id": "38d93ac7",
   "metadata": {},
   "outputs": [
    {
     "data": {
      "text/html": [
       "<pre style=\"white-space:pre;overflow-x:auto;line-height:normal;font-family:Menlo,'DejaVu Sans Mono',consolas,'Courier New',monospace\"><span style=\"color: #7fbfbf; text-decoration-color: #7fbfbf\">[2025-05-18-22:43:15] </span><span style=\"color: #000080; text-decoration-color: #000080\">INFO    </span> Verifying MD5 for aclImdb.tar.gz<span style=\"color: #808000; text-decoration-color: #808000\">...</span>                                    <a href=\"file:///Users/lenguyen/Desktop/0_Workspace/Github/banhxeo/src/banhxeo/utils/logging.py\" target=\"_blank\"><span style=\"color: #7f7f7f; text-decoration-color: #7f7f7f\">logging.py</span></a><span style=\"color: #7f7f7f; text-decoration-color: #7f7f7f\">:</span><a href=\"file:///Users/lenguyen/Desktop/0_Workspace/Github/banhxeo/src/banhxeo/utils/logging.py#27\" target=\"_blank\"><span style=\"color: #7f7f7f; text-decoration-color: #7f7f7f\">27</span></a>\n",
       "</pre>\n"
      ],
      "text/plain": [
       "\u001b[2;36m[2025-05-18-22:43:15]\u001b[0m\u001b[2;36m \u001b[0m\u001b[34mINFO    \u001b[0m Verifying MD5 for aclImdb.tar.gz\u001b[33m...\u001b[0m                                    \u001b]8;id=335556;file:///Users/lenguyen/Desktop/0_Workspace/Github/banhxeo/src/banhxeo/utils/logging.py\u001b\\\u001b[2mlogging.py\u001b[0m\u001b]8;;\u001b\\\u001b[2m:\u001b[0m\u001b]8;id=617784;file:///Users/lenguyen/Desktop/0_Workspace/Github/banhxeo/src/banhxeo/utils/logging.py#27\u001b\\\u001b[2m27\u001b[0m\u001b]8;;\u001b\\\n"
      ]
     },
     "metadata": {},
     "output_type": "display_data"
    },
    {
     "data": {
      "text/html": [
       "<pre style=\"white-space:pre;overflow-x:auto;line-height:normal;font-family:Menlo,'DejaVu Sans Mono',consolas,'Courier New',monospace\"><span style=\"color: #7fbfbf; text-decoration-color: #7fbfbf\">                      </span><span style=\"color: #000080; text-decoration-color: #000080\">INFO    </span> MD5 checksum verified.                                                 <a href=\"file:///Users/lenguyen/Desktop/0_Workspace/Github/banhxeo/src/banhxeo/utils/logging.py\" target=\"_blank\"><span style=\"color: #7f7f7f; text-decoration-color: #7f7f7f\">logging.py</span></a><span style=\"color: #7f7f7f; text-decoration-color: #7f7f7f\">:</span><a href=\"file:///Users/lenguyen/Desktop/0_Workspace/Github/banhxeo/src/banhxeo/utils/logging.py#27\" target=\"_blank\"><span style=\"color: #7f7f7f; text-decoration-color: #7f7f7f\">27</span></a>\n",
       "</pre>\n"
      ],
      "text/plain": [
       "\u001b[2;36m                     \u001b[0m\u001b[2;36m \u001b[0m\u001b[34mINFO    \u001b[0m MD5 checksum verified.                                                 \u001b]8;id=83191;file:///Users/lenguyen/Desktop/0_Workspace/Github/banhxeo/src/banhxeo/utils/logging.py\u001b\\\u001b[2mlogging.py\u001b[0m\u001b]8;;\u001b\\\u001b[2m:\u001b[0m\u001b]8;id=31088;file:///Users/lenguyen/Desktop/0_Workspace/Github/banhxeo/src/banhxeo/utils/logging.py#27\u001b\\\u001b[2m27\u001b[0m\u001b]8;;\u001b\\\n"
      ]
     },
     "metadata": {},
     "output_type": "display_data"
    },
    {
     "data": {
      "text/html": [
       "<pre style=\"white-space:pre;overflow-x:auto;line-height:normal;font-family:Menlo,'DejaVu Sans Mono',consolas,'Courier New',monospace\"><span style=\"color: #7fbfbf; text-decoration-color: #7fbfbf\">                      </span><span style=\"color: #000080; text-decoration-color: #000080\">INFO    </span> Reading data from:                                                     <a href=\"file:///Users/lenguyen/Desktop/0_Workspace/Github/banhxeo/src/banhxeo/utils/logging.py\" target=\"_blank\"><span style=\"color: #7f7f7f; text-decoration-color: #7f7f7f\">logging.py</span></a><span style=\"color: #7f7f7f; text-decoration-color: #7f7f7f\">:</span><a href=\"file:///Users/lenguyen/Desktop/0_Workspace/Github/banhxeo/src/banhxeo/utils/logging.py#27\" target=\"_blank\"><span style=\"color: #7f7f7f; text-decoration-color: #7f7f7f\">27</span></a>\n",
       "<span style=\"color: #7fbfbf; text-decoration-color: #7fbfbf\">                      </span>         <span style=\"color: #800080; text-decoration-color: #800080\">/Users/lenguyen/Desktop/0_Workspace/Github/banhxeo/notebooks/datasets/</span> <span style=\"color: #7f7f7f; text-decoration-color: #7f7f7f\">             </span>\n",
       "<span style=\"color: #7fbfbf; text-decoration-color: #7fbfbf\">                      </span>         <span style=\"color: #800080; text-decoration-color: #800080\">IMDB/aclImdb/train/</span><span style=\"color: #ff00ff; text-decoration-color: #ff00ff\">pos</span>                                                 <span style=\"color: #7f7f7f; text-decoration-color: #7f7f7f\">             </span>\n",
       "</pre>\n"
      ],
      "text/plain": [
       "\u001b[2;36m                     \u001b[0m\u001b[2;36m \u001b[0m\u001b[34mINFO    \u001b[0m Reading data from:                                                     \u001b]8;id=705515;file:///Users/lenguyen/Desktop/0_Workspace/Github/banhxeo/src/banhxeo/utils/logging.py\u001b\\\u001b[2mlogging.py\u001b[0m\u001b]8;;\u001b\\\u001b[2m:\u001b[0m\u001b]8;id=981097;file:///Users/lenguyen/Desktop/0_Workspace/Github/banhxeo/src/banhxeo/utils/logging.py#27\u001b\\\u001b[2m27\u001b[0m\u001b]8;;\u001b\\\n",
       "\u001b[2;36m                      \u001b[0m         \u001b[35m/Users/lenguyen/Desktop/0_Workspace/Github/banhxeo/notebooks/datasets/\u001b[0m \u001b[2m             \u001b[0m\n",
       "\u001b[2;36m                      \u001b[0m         \u001b[35mIMDB/aclImdb/train/\u001b[0m\u001b[95mpos\u001b[0m                                                 \u001b[2m             \u001b[0m\n"
      ]
     },
     "metadata": {},
     "output_type": "display_data"
    },
    {
     "data": {
      "application/vnd.jupyter.widget-view+json": {
       "model_id": "5963b97e90d740d1aa3c1112e54c2be5",
       "version_major": 2,
       "version_minor": 0
      },
      "text/plain": [
       "  0%|          | 0.00/12.5k [00:00<?, ?file/s]"
      ]
     },
     "metadata": {},
     "output_type": "display_data"
    },
    {
     "data": {
      "text/html": [
       "<pre style=\"white-space:pre;overflow-x:auto;line-height:normal;font-family:Menlo,'DejaVu Sans Mono',consolas,'Courier New',monospace\"><span style=\"color: #7fbfbf; text-decoration-color: #7fbfbf\">[2025-05-18-22:43:23] </span><span style=\"color: #000080; text-decoration-color: #000080\">INFO    </span> Reading data from:                                                     <a href=\"file:///Users/lenguyen/Desktop/0_Workspace/Github/banhxeo/src/banhxeo/utils/logging.py\" target=\"_blank\"><span style=\"color: #7f7f7f; text-decoration-color: #7f7f7f\">logging.py</span></a><span style=\"color: #7f7f7f; text-decoration-color: #7f7f7f\">:</span><a href=\"file:///Users/lenguyen/Desktop/0_Workspace/Github/banhxeo/src/banhxeo/utils/logging.py#27\" target=\"_blank\"><span style=\"color: #7f7f7f; text-decoration-color: #7f7f7f\">27</span></a>\n",
       "<span style=\"color: #7fbfbf; text-decoration-color: #7fbfbf\">                      </span>         <span style=\"color: #800080; text-decoration-color: #800080\">/Users/lenguyen/Desktop/0_Workspace/Github/banhxeo/notebooks/datasets/</span> <span style=\"color: #7f7f7f; text-decoration-color: #7f7f7f\">             </span>\n",
       "<span style=\"color: #7fbfbf; text-decoration-color: #7fbfbf\">                      </span>         <span style=\"color: #800080; text-decoration-color: #800080\">IMDB/aclImdb/train/</span><span style=\"color: #ff00ff; text-decoration-color: #ff00ff\">neg</span>                                                 <span style=\"color: #7f7f7f; text-decoration-color: #7f7f7f\">             </span>\n",
       "</pre>\n"
      ],
      "text/plain": [
       "\u001b[2;36m[2025-05-18-22:43:23]\u001b[0m\u001b[2;36m \u001b[0m\u001b[34mINFO    \u001b[0m Reading data from:                                                     \u001b]8;id=239910;file:///Users/lenguyen/Desktop/0_Workspace/Github/banhxeo/src/banhxeo/utils/logging.py\u001b\\\u001b[2mlogging.py\u001b[0m\u001b]8;;\u001b\\\u001b[2m:\u001b[0m\u001b]8;id=82268;file:///Users/lenguyen/Desktop/0_Workspace/Github/banhxeo/src/banhxeo/utils/logging.py#27\u001b\\\u001b[2m27\u001b[0m\u001b]8;;\u001b\\\n",
       "\u001b[2;36m                      \u001b[0m         \u001b[35m/Users/lenguyen/Desktop/0_Workspace/Github/banhxeo/notebooks/datasets/\u001b[0m \u001b[2m             \u001b[0m\n",
       "\u001b[2;36m                      \u001b[0m         \u001b[35mIMDB/aclImdb/train/\u001b[0m\u001b[95mneg\u001b[0m                                                 \u001b[2m             \u001b[0m\n"
      ]
     },
     "metadata": {},
     "output_type": "display_data"
    },
    {
     "data": {
      "application/vnd.jupyter.widget-view+json": {
       "model_id": "bec4d65194ef409b867e24fa783331c5",
       "version_major": 2,
       "version_minor": 0
      },
      "text/plain": [
       "  0%|          | 0.00/12.5k [00:00<?, ?file/s]"
      ]
     },
     "metadata": {},
     "output_type": "display_data"
    }
   ],
   "source": [
    "# Load raw data\n",
    "raw_imdb = IMDBDataset(\"./\", split=\"train\")"
   ]
  },
  {
   "cell_type": "code",
   "execution_count": 3,
   "id": "187b456f",
   "metadata": {},
   "outputs": [
    {
     "name": "stdout",
     "output_type": "stream",
     "text": [
      "shape: (25_000, 4)\n",
      "┌───────┬────────┬─────────────────────────────────┬───────┐\n",
      "│ id    ┆ rating ┆ content                         ┆ label │\n",
      "│ ---   ┆ ---    ┆ ---                             ┆ ---   │\n",
      "│ str   ┆ i8     ┆ str                             ┆ cat   │\n",
      "╞═══════╪════════╪═════════════════════════════════╪═══════╡\n",
      "│ 6168  ┆ 10     ┆ Aileen Gonsalves, my girlfrien… ┆ pos   │\n",
      "│ 9919  ┆ 9      ┆ Mesmerizing, breathtaking and … ┆ pos   │\n",
      "│ 6639  ┆ 10     ┆ You're using the IMDb.<br /><b… ┆ pos   │\n",
      "│ 9014  ┆ 10     ┆ Shamefully, before I saw this … ┆ pos   │\n",
      "│ 9552  ┆ 8      ┆ A real classic. A shipload of … ┆ pos   │\n",
      "│ …     ┆ …      ┆ …                               ┆ …     │\n",
      "│ 8102  ┆ 1      ┆ Oh, I heard so much good about… ┆ neg   │\n",
      "│ 11556 ┆ 1      ┆ Oh, those Italians! Assuming t… ┆ neg   │\n",
      "│ 1249  ┆ 2      ┆ What a disappointment, especia… ┆ neg   │\n",
      "│ 2240  ┆ 4      ┆ The \"saucy\" misadventures of f… ┆ neg   │\n",
      "│ 9788  ┆ 3      ┆ Not that I dislike childrens m… ┆ neg   │\n",
      "└───────┴────────┴─────────────────────────────────┴───────┘\n"
     ]
    }
   ],
   "source": [
    "print(raw_imdb.data)"
   ]
  },
  {
   "cell_type": "code",
   "execution_count": 4,
   "id": "ef0fb5bb",
   "metadata": {},
   "outputs": [
    {
     "data": {
      "text/plain": [
       "[\"Aileen Gonsalves, my girlfriend, is in this film playing a secretary at the main character's bank. She has a lovely scene with Roshan Seth in a restaurant. There's more information on her website at >Having stated my personal interest in the film, I have to say that I think it is a beautiful movie - moving, funny and beautifully filmed.\",\n",
       " 'Mesmerizing, breathtaking and horrifying, this hauntingly beautiful film is the \"Apocalypse Now\" without fiction. Slow in pace, quiet in mood, it gives good glimpses of the poisoned patches of Earth that may well be signs of an inevitable doom.<br /><br />There is no doubt in my mind -- the nature is plagued and we are the disease. Greed, the very essence of humanity that drives evolution and progress, has turned us into something like cancer, on its way to consume the host and die with it...<br /><br />Manufactured Landscapes is quite an unforgettable viewing experience - at least I\\'ll never regard my toaster and iron the same way again.',\n",
       " \"You're using the IMDb.<br /><br />You've given some hefty votes to some of your favourite films.<br /><br />It's something you enjoy doing.<br /><br />And it's all because of this. Fifty seconds. One world ends, another begins.<br /><br />How can it not be given a ten? I wonder at those who give this a seven or an eight... exactly how could THE FIRST FILM EVER MADE be better? For the record, the long, still opening shot is great showmanship, a superb innovation, perfectly suited to the situation. And the dog on the bike is a lovely touch. All this within fifty seconds.<br /><br />The word genius is often overused.<br /><br />THIS is genius.\",\n",
       " \"Shamefully, before I saw this film, I was unfamiliar with Helena Bonham Carter.<br /><br />I had to do some research, in order to assure myself she wasn't actually afflicted, as was her character, with (well?), what she was afflicted with. I was in absolute awe of this beautiful lady. She pulled it of flawlessly.<br /><br />Who would have thought that sexually explicit circumstances involving the final wants, and needs, of a unique young lady, could be interpreted as tender, and romantic? Well, they can be, when the right performers present them in the proper manner, as they did in this wonderful movie. I forgot to mention how dynamically beautiful Miss Carter looked in this movie. I have often said she was the most beautiful creature to have ever graced the face of our earth, but she seemed to have out done herself in this particular movie.<br /><br />I hope any of you who watch this movie enjoy it as much as I did. Thank you for letting me express my opinion.\",\n",
       " 'A real classic. A shipload of sailors trying to get to the towns daughters while their fathers go to extremes to deter the sailors attempts. A maidens cry for aid results in the dispatch of the \"Rape Squad\". A cult film waiting to happen!']"
      ]
     },
     "execution_count": 4,
     "metadata": {},
     "output_type": "execute_result"
    }
   ],
   "source": [
    "raw_imdb.text_data[:5]"
   ]
  },
  {
   "cell_type": "markdown",
   "id": "2ba27d9f",
   "metadata": {},
   "source": [
    "### Create tokenizer and vocabulary"
   ]
  },
  {
   "cell_type": "code",
   "execution_count": 5,
   "id": "7542ec6d",
   "metadata": {},
   "outputs": [],
   "source": [
    "tokenizer = NLTKTokenizer()"
   ]
  },
  {
   "cell_type": "code",
   "execution_count": null,
   "id": "a75c5da5",
   "metadata": {},
   "outputs": [],
   "source": [
    "vocab = Vocabulary.build(corpus=raw_imdb.text_data, tokenizer=tokenizer)"
   ]
  },
  {
   "cell_type": "code",
   "execution_count": 7,
   "id": "13a1d0cb",
   "metadata": {},
   "outputs": [
    {
     "data": {
      "text/plain": [
       "['get',\n",
       " 'we',\n",
       " 'will',\n",
       " 'because',\n",
       " 'other',\n",
       " 'people',\n",
       " 'most',\n",
       " 'great',\n",
       " 'first',\n",
       " 'bad',\n",
       " 'also',\n",
       " 'make',\n",
       " 'how',\n",
       " 'made',\n",
       " 'him',\n",
       " 'its',\n",
       " 'any',\n",
       " 'But',\n",
       " 'think',\n",
       " 'well']"
      ]
     },
     "execution_count": 7,
     "metadata": {},
     "output_type": "execute_result"
    }
   ],
   "source": [
    "vocab.idx_to_token[100:120]"
   ]
  },
  {
   "cell_type": "markdown",
   "id": "4bae220a",
   "metadata": {},
   "source": [
    "#### Train N-gram"
   ]
  },
  {
   "cell_type": "code",
   "execution_count": 8,
   "id": "22542ac0",
   "metadata": {},
   "outputs": [
    {
     "data": {
      "text/html": [
       "<pre style=\"white-space:pre;overflow-x:auto;line-height:normal;font-family:Menlo,'DejaVu Sans Mono',consolas,'Courier New',monospace\"><span style=\"color: #7fbfbf; text-decoration-color: #7fbfbf\">[2025-05-18-22:43:34] </span><span style=\"color: #000080; text-decoration-color: #000080\">INFO    </span> Initializing NGram with config: <span style=\"color: #800080; text-decoration-color: #800080; font-weight: bold\">NGramModel</span><span style=\"font-weight: bold\">(</span><span style=\"color: #808000; text-decoration-color: #808000\">n</span>=<span style=\"color: #008080; text-decoration-color: #008080; font-weight: bold\">5</span>, <span style=\"color: #808000; text-decoration-color: #808000\">smoothing</span>=<span style=\"color: #800080; text-decoration-color: #800080\">laplace</span>,     <a href=\"file:///Users/lenguyen/Desktop/0_Workspace/Github/banhxeo/src/banhxeo/utils/logging.py\" target=\"_blank\"><span style=\"color: #7f7f7f; text-decoration-color: #7f7f7f\">logging.py</span></a><span style=\"color: #7f7f7f; text-decoration-color: #7f7f7f\">:</span><a href=\"file:///Users/lenguyen/Desktop/0_Workspace/Github/banhxeo/src/banhxeo/utils/logging.py#27\" target=\"_blank\"><span style=\"color: #7f7f7f; text-decoration-color: #7f7f7f\">27</span></a>\n",
       "<span style=\"color: #7fbfbf; text-decoration-color: #7fbfbf\">                      </span>         <span style=\"color: #808000; text-decoration-color: #808000\">k</span>=<span style=\"color: #800080; text-decoration-color: #800080; font-style: italic\">None</span><span style=\"font-weight: bold\">)</span>                                                                <span style=\"color: #7f7f7f; text-decoration-color: #7f7f7f\">             </span>\n",
       "</pre>\n"
      ],
      "text/plain": [
       "\u001b[2;36m[2025-05-18-22:43:34]\u001b[0m\u001b[2;36m \u001b[0m\u001b[34mINFO    \u001b[0m Initializing NGram with config: \u001b[1;35mNGramModel\u001b[0m\u001b[1m(\u001b[0m\u001b[33mn\u001b[0m=\u001b[1;36m5\u001b[0m, \u001b[33msmoothing\u001b[0m=\u001b[35mlaplace\u001b[0m,     \u001b]8;id=828069;file:///Users/lenguyen/Desktop/0_Workspace/Github/banhxeo/src/banhxeo/utils/logging.py\u001b\\\u001b[2mlogging.py\u001b[0m\u001b]8;;\u001b\\\u001b[2m:\u001b[0m\u001b]8;id=663612;file:///Users/lenguyen/Desktop/0_Workspace/Github/banhxeo/src/banhxeo/utils/logging.py#27\u001b\\\u001b[2m27\u001b[0m\u001b]8;;\u001b\\\n",
       "\u001b[2;36m                      \u001b[0m         \u001b[33mk\u001b[0m=\u001b[3;35mNone\u001b[0m\u001b[1m)\u001b[0m                                                                \u001b[2m             \u001b[0m\n"
      ]
     },
     "metadata": {},
     "output_type": "display_data"
    }
   ],
   "source": [
    "model = NGram(vocab=vocab, n=5, smoothing=\"laplace\")"
   ]
  },
  {
   "cell_type": "code",
   "execution_count": 9,
   "id": "d210fee8",
   "metadata": {},
   "outputs": [
    {
     "data": {
      "text/html": [
       "<pre style=\"white-space:pre;overflow-x:auto;line-height:normal;font-family:Menlo,'DejaVu Sans Mono',consolas,'Courier New',monospace\"><span style=\"color: #7fbfbf; text-decoration-color: #7fbfbf\">                      </span><span style=\"color: #008000; text-decoration-color: #008000\">DEBUG   </span> Counting <span style=\"color: #008080; text-decoration-color: #008080; font-weight: bold\">5</span>-grams<span style=\"color: #808000; text-decoration-color: #808000\">...</span>                                                    <a href=\"file:///Users/lenguyen/Desktop/0_Workspace/Github/banhxeo/src/banhxeo/utils/logging.py\" target=\"_blank\"><span style=\"color: #7f7f7f; text-decoration-color: #7f7f7f\">logging.py</span></a><span style=\"color: #7f7f7f; text-decoration-color: #7f7f7f\">:</span><a href=\"file:///Users/lenguyen/Desktop/0_Workspace/Github/banhxeo/src/banhxeo/utils/logging.py#30\" target=\"_blank\"><span style=\"color: #7f7f7f; text-decoration-color: #7f7f7f\">30</span></a>\n",
       "</pre>\n"
      ],
      "text/plain": [
       "\u001b[2;36m                     \u001b[0m\u001b[2;36m \u001b[0m\u001b[32mDEBUG   \u001b[0m Counting \u001b[1;36m5\u001b[0m-grams\u001b[33m...\u001b[0m                                                    \u001b]8;id=394369;file:///Users/lenguyen/Desktop/0_Workspace/Github/banhxeo/src/banhxeo/utils/logging.py\u001b\\\u001b[2mlogging.py\u001b[0m\u001b]8;;\u001b\\\u001b[2m:\u001b[0m\u001b]8;id=930939;file:///Users/lenguyen/Desktop/0_Workspace/Github/banhxeo/src/banhxeo/utils/logging.py#30\u001b\\\u001b[2m30\u001b[0m\u001b]8;;\u001b\\\n"
      ]
     },
     "metadata": {},
     "output_type": "display_data"
    },
    {
     "data": {
      "application/vnd.jupyter.widget-view+json": {
       "model_id": "2e09af7f6dd240ec851eb613180709a7",
       "version_major": 2,
       "version_minor": 0
      },
      "text/plain": [
       "  0%|          | 0.00/5.00k [00:00<?, ?sentence/s]"
      ]
     },
     "metadata": {},
     "output_type": "display_data"
    }
   ],
   "source": [
    "model.fit(raw_imdb.text_data[:5000])"
   ]
  },
  {
   "cell_type": "code",
   "execution_count": 10,
   "id": "8fd666a5",
   "metadata": {},
   "outputs": [
    {
     "name": "stdout",
     "output_type": "stream",
     "text": [
      "Inigo Montoya ...) Good for a laugh, or a few laughs really. But watch the Japanese one first\n"
     ]
    }
   ],
   "source": [
    "print(model.generate_sequence(\"hello, my name is\"))"
   ]
  }
 ],
 "metadata": {
  "kernelspec": {
   "display_name": ".venv",
   "language": "python",
   "name": "python3"
  },
  "language_info": {
   "codemirror_mode": {
    "name": "ipython",
    "version": 3
   },
   "file_extension": ".py",
   "mimetype": "text/x-python",
   "name": "python",
   "nbconvert_exporter": "python",
   "pygments_lexer": "ipython3",
   "version": "3.9.6"
  }
 },
 "nbformat": 4,
 "nbformat_minor": 5
}
