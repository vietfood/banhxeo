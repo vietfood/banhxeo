{
 "cells": [
  {
   "cell_type": "code",
   "execution_count": 1,
   "id": "5450697b",
   "metadata": {},
   "outputs": [],
   "source": [
    "from banhxeo.data import IMDBDataset\n",
    "from banhxeo.model import NGram\n",
    "from banhxeo.core import NLTKTokenizer, Vocabulary"
   ]
  },
  {
   "cell_type": "markdown",
   "id": "9bd00ba8",
   "metadata": {},
   "source": [
    "### Create dataset"
   ]
  },
  {
   "cell_type": "code",
   "execution_count": 2,
   "id": "4ced4a6d",
   "metadata": {},
   "outputs": [
    {
     "data": {
      "text/html": [
       "<pre style=\"white-space:pre;overflow-x:auto;line-height:normal;font-family:Menlo,'DejaVu Sans Mono',consolas,'Courier New',monospace\"><span style=\"color: #7fbfbf; text-decoration-color: #7fbfbf\">[2025-05-21-17:42:05] </span><span style=\"color: #000080; text-decoration-color: #000080\">INFO    </span> Verifying MD5 for aclImdb.tar.gz<span style=\"color: #808000; text-decoration-color: #808000\">...</span>                                    <a href=\"file:///Users/lenguyen/Desktop/0_Workspace/Github/banhxeo/src/banhxeo/utils/logging.py\" target=\"_blank\"><span style=\"color: #7f7f7f; text-decoration-color: #7f7f7f\">logging.py</span></a><span style=\"color: #7f7f7f; text-decoration-color: #7f7f7f\">:</span><a href=\"file:///Users/lenguyen/Desktop/0_Workspace/Github/banhxeo/src/banhxeo/utils/logging.py#30\" target=\"_blank\"><span style=\"color: #7f7f7f; text-decoration-color: #7f7f7f\">30</span></a>\n",
       "</pre>\n"
      ],
      "text/plain": [
       "\u001b[2;36m[2025-05-21-17:42:05]\u001b[0m\u001b[2;36m \u001b[0m\u001b[34mINFO    \u001b[0m Verifying MD5 for aclImdb.tar.gz\u001b[33m...\u001b[0m                                    \u001b]8;id=627183;file:///Users/lenguyen/Desktop/0_Workspace/Github/banhxeo/src/banhxeo/utils/logging.py\u001b\\\u001b[2mlogging.py\u001b[0m\u001b]8;;\u001b\\\u001b[2m:\u001b[0m\u001b]8;id=861566;file:///Users/lenguyen/Desktop/0_Workspace/Github/banhxeo/src/banhxeo/utils/logging.py#30\u001b\\\u001b[2m30\u001b[0m\u001b]8;;\u001b\\\n"
      ]
     },
     "metadata": {},
     "output_type": "display_data"
    },
    {
     "data": {
      "text/html": [
       "<pre style=\"white-space:pre;overflow-x:auto;line-height:normal;font-family:Menlo,'DejaVu Sans Mono',consolas,'Courier New',monospace\"><span style=\"color: #7fbfbf; text-decoration-color: #7fbfbf\">                      </span><span style=\"color: #000080; text-decoration-color: #000080\">INFO    </span> MD5 checksum verified.                                                 <a href=\"file:///Users/lenguyen/Desktop/0_Workspace/Github/banhxeo/src/banhxeo/utils/logging.py\" target=\"_blank\"><span style=\"color: #7f7f7f; text-decoration-color: #7f7f7f\">logging.py</span></a><span style=\"color: #7f7f7f; text-decoration-color: #7f7f7f\">:</span><a href=\"file:///Users/lenguyen/Desktop/0_Workspace/Github/banhxeo/src/banhxeo/utils/logging.py#30\" target=\"_blank\"><span style=\"color: #7f7f7f; text-decoration-color: #7f7f7f\">30</span></a>\n",
       "</pre>\n"
      ],
      "text/plain": [
       "\u001b[2;36m                     \u001b[0m\u001b[2;36m \u001b[0m\u001b[34mINFO    \u001b[0m MD5 checksum verified.                                                 \u001b]8;id=687759;file:///Users/lenguyen/Desktop/0_Workspace/Github/banhxeo/src/banhxeo/utils/logging.py\u001b\\\u001b[2mlogging.py\u001b[0m\u001b]8;;\u001b\\\u001b[2m:\u001b[0m\u001b]8;id=99103;file:///Users/lenguyen/Desktop/0_Workspace/Github/banhxeo/src/banhxeo/utils/logging.py#30\u001b\\\u001b[2m30\u001b[0m\u001b]8;;\u001b\\\n"
      ]
     },
     "metadata": {},
     "output_type": "display_data"
    },
    {
     "data": {
      "text/html": [
       "<pre style=\"white-space:pre;overflow-x:auto;line-height:normal;font-family:Menlo,'DejaVu Sans Mono',consolas,'Courier New',monospace\"><span style=\"color: #7fbfbf; text-decoration-color: #7fbfbf\">                      </span><span style=\"color: #000080; text-decoration-color: #000080\">INFO    </span> Reading data from:                                                     <a href=\"file:///Users/lenguyen/Desktop/0_Workspace/Github/banhxeo/src/banhxeo/utils/logging.py\" target=\"_blank\"><span style=\"color: #7f7f7f; text-decoration-color: #7f7f7f\">logging.py</span></a><span style=\"color: #7f7f7f; text-decoration-color: #7f7f7f\">:</span><a href=\"file:///Users/lenguyen/Desktop/0_Workspace/Github/banhxeo/src/banhxeo/utils/logging.py#30\" target=\"_blank\"><span style=\"color: #7f7f7f; text-decoration-color: #7f7f7f\">30</span></a>\n",
       "<span style=\"color: #7fbfbf; text-decoration-color: #7fbfbf\">                      </span>         <span style=\"color: #800080; text-decoration-color: #800080\">/Users/lenguyen/Desktop/0_Workspace/Github/banhxeo/examples/datasets/I</span> <span style=\"color: #7f7f7f; text-decoration-color: #7f7f7f\">             </span>\n",
       "<span style=\"color: #7fbfbf; text-decoration-color: #7fbfbf\">                      </span>         <span style=\"color: #800080; text-decoration-color: #800080\">MDB/aclImdb/train/</span><span style=\"color: #ff00ff; text-decoration-color: #ff00ff\">pos</span>                                                  <span style=\"color: #7f7f7f; text-decoration-color: #7f7f7f\">             </span>\n",
       "</pre>\n"
      ],
      "text/plain": [
       "\u001b[2;36m                     \u001b[0m\u001b[2;36m \u001b[0m\u001b[34mINFO    \u001b[0m Reading data from:                                                     \u001b]8;id=536143;file:///Users/lenguyen/Desktop/0_Workspace/Github/banhxeo/src/banhxeo/utils/logging.py\u001b\\\u001b[2mlogging.py\u001b[0m\u001b]8;;\u001b\\\u001b[2m:\u001b[0m\u001b]8;id=543338;file:///Users/lenguyen/Desktop/0_Workspace/Github/banhxeo/src/banhxeo/utils/logging.py#30\u001b\\\u001b[2m30\u001b[0m\u001b]8;;\u001b\\\n",
       "\u001b[2;36m                      \u001b[0m         \u001b[35m/Users/lenguyen/Desktop/0_Workspace/Github/banhxeo/examples/datasets/I\u001b[0m \u001b[2m             \u001b[0m\n",
       "\u001b[2;36m                      \u001b[0m         \u001b[35mMDB/aclImdb/train/\u001b[0m\u001b[95mpos\u001b[0m                                                  \u001b[2m             \u001b[0m\n"
      ]
     },
     "metadata": {},
     "output_type": "display_data"
    },
    {
     "data": {
      "application/vnd.jupyter.widget-view+json": {
       "model_id": "aed16c614c684cdfb4f20544371b8a35",
       "version_major": 2,
       "version_minor": 0
      },
      "text/plain": [
       "  0%|          | 0.00/12.5k [00:00<?, ?file/s]"
      ]
     },
     "metadata": {},
     "output_type": "display_data"
    },
    {
     "data": {
      "text/html": [
       "<pre style=\"white-space:pre;overflow-x:auto;line-height:normal;font-family:Menlo,'DejaVu Sans Mono',consolas,'Courier New',monospace\"><span style=\"color: #7fbfbf; text-decoration-color: #7fbfbf\">[2025-05-21-17:42:12] </span><span style=\"color: #000080; text-decoration-color: #000080\">INFO    </span> Reading data from:                                                     <a href=\"file:///Users/lenguyen/Desktop/0_Workspace/Github/banhxeo/src/banhxeo/utils/logging.py\" target=\"_blank\"><span style=\"color: #7f7f7f; text-decoration-color: #7f7f7f\">logging.py</span></a><span style=\"color: #7f7f7f; text-decoration-color: #7f7f7f\">:</span><a href=\"file:///Users/lenguyen/Desktop/0_Workspace/Github/banhxeo/src/banhxeo/utils/logging.py#30\" target=\"_blank\"><span style=\"color: #7f7f7f; text-decoration-color: #7f7f7f\">30</span></a>\n",
       "<span style=\"color: #7fbfbf; text-decoration-color: #7fbfbf\">                      </span>         <span style=\"color: #800080; text-decoration-color: #800080\">/Users/lenguyen/Desktop/0_Workspace/Github/banhxeo/examples/datasets/I</span> <span style=\"color: #7f7f7f; text-decoration-color: #7f7f7f\">             </span>\n",
       "<span style=\"color: #7fbfbf; text-decoration-color: #7fbfbf\">                      </span>         <span style=\"color: #800080; text-decoration-color: #800080\">MDB/aclImdb/train/</span><span style=\"color: #ff00ff; text-decoration-color: #ff00ff\">neg</span>                                                  <span style=\"color: #7f7f7f; text-decoration-color: #7f7f7f\">             </span>\n",
       "</pre>\n"
      ],
      "text/plain": [
       "\u001b[2;36m[2025-05-21-17:42:12]\u001b[0m\u001b[2;36m \u001b[0m\u001b[34mINFO    \u001b[0m Reading data from:                                                     \u001b]8;id=953704;file:///Users/lenguyen/Desktop/0_Workspace/Github/banhxeo/src/banhxeo/utils/logging.py\u001b\\\u001b[2mlogging.py\u001b[0m\u001b]8;;\u001b\\\u001b[2m:\u001b[0m\u001b]8;id=240972;file:///Users/lenguyen/Desktop/0_Workspace/Github/banhxeo/src/banhxeo/utils/logging.py#30\u001b\\\u001b[2m30\u001b[0m\u001b]8;;\u001b\\\n",
       "\u001b[2;36m                      \u001b[0m         \u001b[35m/Users/lenguyen/Desktop/0_Workspace/Github/banhxeo/examples/datasets/I\u001b[0m \u001b[2m             \u001b[0m\n",
       "\u001b[2;36m                      \u001b[0m         \u001b[35mMDB/aclImdb/train/\u001b[0m\u001b[95mneg\u001b[0m                                                  \u001b[2m             \u001b[0m\n"
      ]
     },
     "metadata": {},
     "output_type": "display_data"
    },
    {
     "data": {
      "application/vnd.jupyter.widget-view+json": {
       "model_id": "b571d25b77f24030ac5ac8352d92a726",
       "version_major": 2,
       "version_minor": 0
      },
      "text/plain": [
       "  0%|          | 0.00/12.5k [00:00<?, ?file/s]"
      ]
     },
     "metadata": {},
     "output_type": "display_data"
    }
   ],
   "source": [
    "imdb_raw = IMDBDataset(root_dir=\"./\", split_name=\"train\")"
   ]
  },
  {
   "cell_type": "code",
   "execution_count": 3,
   "id": "c2ae262b",
   "metadata": {},
   "outputs": [
    {
     "data": {
      "text/html": [
       "<div><style>\n",
       ".dataframe > thead > tr,\n",
       ".dataframe > tbody > tr {\n",
       "  text-align: right;\n",
       "  white-space: pre-wrap;\n",
       "}\n",
       "</style>\n",
       "<small>shape: (25_000, 4)</small><table border=\"1\" class=\"dataframe\"><thead><tr><th>id</th><th>rating</th><th>content</th><th>label</th></tr><tr><td>str</td><td>i8</td><td>str</td><td>cat</td></tr></thead><tbody><tr><td>&quot;6639&quot;</td><td>10</td><td>&quot;You&#x27;re using the IMDb.&lt;br /&gt;&lt;b…</td><td>&quot;pos&quot;</td></tr><tr><td>&quot;11057&quot;</td><td>10</td><td>&quot;I was 10 years old when this s…</td><td>&quot;pos&quot;</td></tr><tr><td>&quot;6935&quot;</td><td>8</td><td>&quot;James Stewart stars in a class…</td><td>&quot;pos&quot;</td></tr><tr><td>&quot;1256&quot;</td><td>8</td><td>&quot;This is a very dramatic and su…</td><td>&quot;pos&quot;</td></tr><tr><td>&quot;6020&quot;</td><td>7</td><td>&quot;A beautiful new print of &quot;Zabr…</td><td>&quot;pos&quot;</td></tr><tr><td>&hellip;</td><td>&hellip;</td><td>&hellip;</td><td>&hellip;</td></tr><tr><td>&quot;5381&quot;</td><td>4</td><td>&quot;Four Eyed Monsters follows the…</td><td>&quot;neg&quot;</td></tr><tr><td>&quot;9788&quot;</td><td>3</td><td>&quot;Not that I dislike childrens m…</td><td>&quot;neg&quot;</td></tr><tr><td>&quot;2240&quot;</td><td>4</td><td>&quot;The &quot;saucy&quot; misadventures of f…</td><td>&quot;neg&quot;</td></tr><tr><td>&quot;4617&quot;</td><td>3</td><td>&quot;Eight academy nominations? It&#x27;…</td><td>&quot;neg&quot;</td></tr><tr><td>&quot;10535&quot;</td><td>2</td><td>&quot;&lt;br /&gt;&lt;br /&gt;According to revie…</td><td>&quot;neg&quot;</td></tr></tbody></table></div>"
      ],
      "text/plain": [
       "shape: (25_000, 4)\n",
       "┌───────┬────────┬─────────────────────────────────┬───────┐\n",
       "│ id    ┆ rating ┆ content                         ┆ label │\n",
       "│ ---   ┆ ---    ┆ ---                             ┆ ---   │\n",
       "│ str   ┆ i8     ┆ str                             ┆ cat   │\n",
       "╞═══════╪════════╪═════════════════════════════════╪═══════╡\n",
       "│ 6639  ┆ 10     ┆ You're using the IMDb.<br /><b… ┆ pos   │\n",
       "│ 11057 ┆ 10     ┆ I was 10 years old when this s… ┆ pos   │\n",
       "│ 6935  ┆ 8      ┆ James Stewart stars in a class… ┆ pos   │\n",
       "│ 1256  ┆ 8      ┆ This is a very dramatic and su… ┆ pos   │\n",
       "│ 6020  ┆ 7      ┆ A beautiful new print of \"Zabr… ┆ pos   │\n",
       "│ …     ┆ …      ┆ …                               ┆ …     │\n",
       "│ 5381  ┆ 4      ┆ Four Eyed Monsters follows the… ┆ neg   │\n",
       "│ 9788  ┆ 3      ┆ Not that I dislike childrens m… ┆ neg   │\n",
       "│ 2240  ┆ 4      ┆ The \"saucy\" misadventures of f… ┆ neg   │\n",
       "│ 4617  ┆ 3      ┆ Eight academy nominations? It'… ┆ neg   │\n",
       "│ 10535 ┆ 2      ┆ <br /><br />According to revie… ┆ neg   │\n",
       "└───────┴────────┴─────────────────────────────────┴───────┘"
      ]
     },
     "execution_count": 3,
     "metadata": {},
     "output_type": "execute_result"
    }
   ],
   "source": [
    "imdb_raw.get_data()"
   ]
  },
  {
   "cell_type": "code",
   "execution_count": 4,
   "id": "326f9d66",
   "metadata": {},
   "outputs": [
    {
     "data": {
      "text/plain": [
       "['These are excerpts from a nine-page \"Memo to Mr. Cohn from Mr. Welles\", written after Orson had seen studio mogul Harry Cohn\\'s edited version of the picture (he took an hour out): <br /><br />\"...The preview title music was written by a first rate composer, George Antheil. Although not written for our picture at all, this temporary title music had an atmosphere of darkness and menace combined with something lush and romantic which made it acceptable...The only musical idea which seems to have occurred to this present composer (Heinz Roemheld) is the rather weary one of using a popular song--the \"theme\"--in as many arrangements as possible. Throughout we have musical references to \"Please Don\\'t Kiss Me\" for almost every bridge and also for a great deal of the background material. The tune is pleasing, it may do very well on the Hit Parade--but Lady from Shanghai is not a musical comedy...Mr. Roemheld is an ardent devotee of an old-fashioned type of scoring now referred to in our business as \"Disney\". In other words, if somebody falls down, he makes a \"falling down\" sound in the orchestra, etc., etc...If the lab had scratched initials and phone numbers all over the negative, I couldn\\'t be unhappier about the results...Just before I left to go abroad, I asked Vi (Viola Lawrence, the editor) to make a cut which would involve dropping the near accident with the taxi-cab and also quite a bit of dialogue. I am convinced that this would have been an excellent cut...saving much needed footage in the slow opening sequence (this was not done, accounting for the main weaknesses of the film\\'s opening reel)...There is nothing in the fact of Rita\\'s diving to warrant a big orchestral crescendo...What does matter is Rita\\'s beauty...the evil overtones suggested by Grigsby\\'s character, and Michael\\'s bewilderment. Any or all of these items might have inspired the music. Instead, the dive is treated as though it were a major climax or some antic moment in a Silly Symphony: a pratfall by Pluto the Pup, or a wild jump into space by Donald Duck...There is no sound atmosphere on the boat. A little wind and water is sorely missed. There\\'s no point in photographing a scene on a real boat if you make it sound as though it all happened in front of a process screen...At the start of the picnic sequence...in the temporary score, we used a very curious, sexy Latin-American strain...This has been replaced with a corny \"dramatic\" sequel--bad stock stuff...This sort of music destroys that quality of strangeness which is exactly what might have saved Lady from Shanghai from being just another whodunit...There is a big musical outburst after Grigsby\\'s line, \"I want you to kill him.\" This is absurd...The Hawaiian guitar music which comes out of the radio...was supposed to be corny enough to make a certain satirical point. As it stands now, it\\'s on about the same level as the rest of the scoring. Nobody in the audience could possibly suspect that we\\'re kidding...The aquarium scene needs more echo. \"Please Don\\'t Kiss Me\" is in again!...A bad dubbing job and poor scoring has destroyed the character of Michael\\'s run down the pier. From the gunshot through to the phone call, a careful pattern of voices had been built up with the expenditure of much time and effort. For some reason, this has all been junked in favor of a vague hullabaloo. As a result, the whole sequence seems dull...The audience should feel at this point, along with Michael, that maybe they are going crazy. The new dubbing job can only make them feel that maybe they\\'re going to sleep...The gun battle with the breaking mirrors must not be backed with music...The closing music again makes reference to \"Please Don\\'t Kiss Me\"...This finale is obvious to the point of vulgarity, and does incalculable injury to the finish of the picture.\"<br /><br />All of these edits from Orson were ignored',\n",
       " 'This is a racist movie, but worthy of study and enjoyment. First time through it the natural inclination is to focus on Erbe & Dad. They have a relaxed, peaceful thing going, what with her still at home about to graduate from high school, and him retired and kicking back waiting for inspiration to do something. Second time through you realize how horribly the sister\\'s husband is dissed by her friends in the backwoods blues bar. He takes it, it\\'s the thing to do these days, and the critical moment passes as if they were chatting about the weather. In that same scene the sister\\'s blues song is a real tear-jerker if you\\'re the least bit sensitive and like that kind of music. Her performance feels like the climax of the story; a blues story with the good guys being \"people of color\" in their element in backwoods, SC. Meanwhile, all the white folk in the movie lead what appears to be shallow meaningless lives fit only for making babies. That\\'s cool, long as you recognize it as fiction.',\n",
       " \"This supernatural Peter Weir thriller is truly one of the most haunting and fascinating movies ever seen. Richard Chamberlain does his best performance here as the Australian lawyer who defends a group of young Aborigins accused of murder. As he gets closer on the case, he discovers more about the main defendant, Chris, and not least about himself. Chris tells him that he is a Mulkurul, which appear to be a race of supernatural beings that lived in Australia thousands of years ago. At the same time, extraordinary high rainfall seems to confirm the Aboriginal prophecy of the coming of the LAST WAVE, the one that will drown the world.<br /><br />The dream sequences and the supernatural effects enhance this movie and make it a spectacular experience. Olivia Hamnett and David Gulpilil are solid in the supporting roles, as well as the chap with the difficult name who plays Charlie, the old Aborigin who can turn into an owl. The climax and the ending don't disappoint, in contrast to many other supernatural thrillers who fall flat after a promising hour or so. However, this can not be called a pure thriller. It is a drama as well and talks about spirituality and spiritual identity in the modern world. A masterful work by Peter Weir, the master of visually stunning dramas.\",\n",
       " \"Sometimes I just want to laugh. Don't you? No analyzing, no critiquing and no looking for deeper meaning. Rent this movie, watch it all and laugh your ass off. Don't want to admit you liked it? Fine. But don't trash it here when you and I both know you liked it. It's Damn funny!\",\n",
       " 'It\\'s funny. It\\'s not Arthur Miller or T.S. Elliot, but man this is funny. Kline and Fields are great. (Her toss-off line \"God, you are so disGUSting\" as she climbs in his window - great! Kline\\'s running into the door after scoping out Teri Hatcher - great too!) Robert Downey Jr. and Kathy Moriarty work together flawlessly - until he finds out who she really is... a soap opera turn if there every was one!<br /><br />The scene near the end in the chinese dining area had my kids and I rolling on the floor - that scene alone is worth the rental price.<br /><br />Doesn\\'t solve any world problems or show the seemy underbelly of daytime T.V. (I hope). Just a lot of fun.']"
      ]
     },
     "execution_count": 4,
     "metadata": {},
     "output_type": "execute_result"
    }
   ],
   "source": [
    "imdb_raw.get_all_texts()[300:305]"
   ]
  },
  {
   "cell_type": "markdown",
   "id": "f1c7c746",
   "metadata": {},
   "source": [
    "### Create Tokenizer and Vocabulary"
   ]
  },
  {
   "cell_type": "code",
   "execution_count": 5,
   "id": "4aaf1c36",
   "metadata": {},
   "outputs": [
    {
     "name": "stdout",
     "output_type": "stream",
     "text": [
      "Tokenizing corpus and counting frequencies...\n"
     ]
    },
    {
     "data": {
      "application/vnd.jupyter.widget-view+json": {
       "model_id": "e046743272cf4675a382ca89d8191dbf",
       "version_major": 2,
       "version_minor": 0
      },
      "text/plain": [
       "  0%|          | 0.00/25.0k [00:00<?, ? sentence/s]"
      ]
     },
     "metadata": {},
     "output_type": "display_data"
    },
    {
     "data": {
      "text/html": [
       "<pre style=\"white-space:pre;overflow-x:auto;line-height:normal;font-family:Menlo,'DejaVu Sans Mono',consolas,'Courier New',monospace\"><span style=\"color: #7fbfbf; text-decoration-color: #7fbfbf\">[2025-05-21-17:42:40] </span><span style=\"color: #000080; text-decoration-color: #000080\">INFO    </span> Vocabulary built: <span style=\"color: #008080; text-decoration-color: #008080; font-weight: bold\">150577</span> unique tokens <span style=\"font-weight: bold\">(</span>including special<span style=\"font-weight: bold\">)</span> from <span style=\"color: #008080; text-decoration-color: #008080; font-weight: bold\">25000</span>  <a href=\"file:///Users/lenguyen/Desktop/0_Workspace/Github/banhxeo/src/banhxeo/utils/logging.py\" target=\"_blank\"><span style=\"color: #7f7f7f; text-decoration-color: #7f7f7f\">logging.py</span></a><span style=\"color: #7f7f7f; text-decoration-color: #7f7f7f\">:</span><a href=\"file:///Users/lenguyen/Desktop/0_Workspace/Github/banhxeo/src/banhxeo/utils/logging.py#30\" target=\"_blank\"><span style=\"color: #7f7f7f; text-decoration-color: #7f7f7f\">30</span></a>\n",
       "<span style=\"color: #7fbfbf; text-decoration-color: #7fbfbf\">                      </span>         sentences.                                                             <span style=\"color: #7f7f7f; text-decoration-color: #7f7f7f\">             </span>\n",
       "</pre>\n"
      ],
      "text/plain": [
       "\u001b[2;36m[2025-05-21-17:42:40]\u001b[0m\u001b[2;36m \u001b[0m\u001b[34mINFO    \u001b[0m Vocabulary built: \u001b[1;36m150577\u001b[0m unique tokens \u001b[1m(\u001b[0mincluding special\u001b[1m)\u001b[0m from \u001b[1;36m25000\u001b[0m  \u001b]8;id=497362;file:///Users/lenguyen/Desktop/0_Workspace/Github/banhxeo/src/banhxeo/utils/logging.py\u001b\\\u001b[2mlogging.py\u001b[0m\u001b]8;;\u001b\\\u001b[2m:\u001b[0m\u001b]8;id=398707;file:///Users/lenguyen/Desktop/0_Workspace/Github/banhxeo/src/banhxeo/utils/logging.py#30\u001b\\\u001b[2m30\u001b[0m\u001b]8;;\u001b\\\n",
       "\u001b[2;36m                      \u001b[0m         sentences.                                                             \u001b[2m             \u001b[0m\n"
      ]
     },
     "metadata": {},
     "output_type": "display_data"
    }
   ],
   "source": [
    "tokenizer = NLTKTokenizer()\n",
    "vocab = Vocabulary.build(corpus=imdb_raw.get_all_texts(), tokenizer=tokenizer)"
   ]
  },
  {
   "cell_type": "code",
   "execution_count": 6,
   "id": "f4ac6289",
   "metadata": {},
   "outputs": [
    {
     "data": {
      "text/html": [
       "<pre style=\"white-space:pre;overflow-x:auto;line-height:normal;font-family:Menlo,'DejaVu Sans Mono',consolas,'Courier New',monospace\"><span style=\"color: #7fbfbf; text-decoration-color: #7fbfbf\">                      </span><span style=\"color: #000080; text-decoration-color: #000080\">INFO    </span> Save vocabulary to path .<span style=\"color: #800080; text-decoration-color: #800080\">/vocab/</span><span style=\"color: #ff00ff; text-decoration-color: #ff00ff\">imdb.json</span> with <span style=\"color: #808000; text-decoration-color: #808000\">...</span>                     <a href=\"file:///Users/lenguyen/Desktop/0_Workspace/Github/banhxeo/src/banhxeo/utils/logging.py\" target=\"_blank\"><span style=\"color: #7f7f7f; text-decoration-color: #7f7f7f\">logging.py</span></a><span style=\"color: #7f7f7f; text-decoration-color: #7f7f7f\">:</span><a href=\"file:///Users/lenguyen/Desktop/0_Workspace/Github/banhxeo/src/banhxeo/utils/logging.py#30\" target=\"_blank\"><span style=\"color: #7f7f7f; text-decoration-color: #7f7f7f\">30</span></a>\n",
       "</pre>\n"
      ],
      "text/plain": [
       "\u001b[2;36m                     \u001b[0m\u001b[2;36m \u001b[0m\u001b[34mINFO    \u001b[0m Save vocabulary to path .\u001b[35m/vocab/\u001b[0m\u001b[95mimdb.json\u001b[0m with \u001b[33m...\u001b[0m                     \u001b]8;id=847900;file:///Users/lenguyen/Desktop/0_Workspace/Github/banhxeo/src/banhxeo/utils/logging.py\u001b\\\u001b[2mlogging.py\u001b[0m\u001b]8;;\u001b\\\u001b[2m:\u001b[0m\u001b]8;id=226980;file:///Users/lenguyen/Desktop/0_Workspace/Github/banhxeo/src/banhxeo/utils/logging.py#30\u001b\\\u001b[2m30\u001b[0m\u001b]8;;\u001b\\\n"
      ]
     },
     "metadata": {},
     "output_type": "display_data"
    }
   ],
   "source": [
    "vocab.save(\"./vocab/imdb.json\")"
   ]
  },
  {
   "cell_type": "markdown",
   "id": "cb52e20b",
   "metadata": {},
   "source": [
    "### Train N-gram"
   ]
  },
  {
   "cell_type": "code",
   "execution_count": 16,
   "id": "b9ceeabf",
   "metadata": {},
   "outputs": [
    {
     "data": {
      "text/html": [
       "<pre style=\"white-space:pre;overflow-x:auto;line-height:normal;font-family:Menlo,'DejaVu Sans Mono',consolas,'Courier New',monospace\"><span style=\"color: #7fbfbf; text-decoration-color: #7fbfbf\">[2025-05-21-17:45:31] </span><span style=\"color: #000080; text-decoration-color: #000080\">INFO    </span> Initializing NGram with config: <span style=\"color: #800080; text-decoration-color: #800080; font-weight: bold\">NGramConfig</span><span style=\"font-weight: bold\">(</span><span style=\"color: #808000; text-decoration-color: #808000\">vocab_size</span>=<span style=\"color: #008080; text-decoration-color: #008080; font-weight: bold\">150577</span>, <span style=\"color: #808000; text-decoration-color: #808000\">n</span>=<span style=\"color: #008080; text-decoration-color: #008080; font-weight: bold\">5</span>,    <a href=\"file:///Users/lenguyen/Desktop/0_Workspace/Github/banhxeo/src/banhxeo/utils/logging.py\" target=\"_blank\"><span style=\"color: #7f7f7f; text-decoration-color: #7f7f7f\">logging.py</span></a><span style=\"color: #7f7f7f; text-decoration-color: #7f7f7f\">:</span><a href=\"file:///Users/lenguyen/Desktop/0_Workspace/Github/banhxeo/src/banhxeo/utils/logging.py#30\" target=\"_blank\"><span style=\"color: #7f7f7f; text-decoration-color: #7f7f7f\">30</span></a>\n",
       "<span style=\"color: #7fbfbf; text-decoration-color: #7fbfbf\">                      </span>         <span style=\"color: #808000; text-decoration-color: #808000\">smoothing</span>=<span style=\"color: #800080; text-decoration-color: #800080\">add_k</span>, <span style=\"color: #808000; text-decoration-color: #808000\">k</span>=<span style=\"color: #008080; text-decoration-color: #008080; font-weight: bold\">0.5</span><span style=\"font-weight: bold\">)</span>                                                <span style=\"color: #7f7f7f; text-decoration-color: #7f7f7f\">             </span>\n",
       "</pre>\n"
      ],
      "text/plain": [
       "\u001b[2;36m[2025-05-21-17:45:31]\u001b[0m\u001b[2;36m \u001b[0m\u001b[34mINFO    \u001b[0m Initializing NGram with config: \u001b[1;35mNGramConfig\u001b[0m\u001b[1m(\u001b[0m\u001b[33mvocab_size\u001b[0m=\u001b[1;36m150577\u001b[0m, \u001b[33mn\u001b[0m=\u001b[1;36m5\u001b[0m,    \u001b]8;id=78356;file:///Users/lenguyen/Desktop/0_Workspace/Github/banhxeo/src/banhxeo/utils/logging.py\u001b\\\u001b[2mlogging.py\u001b[0m\u001b]8;;\u001b\\\u001b[2m:\u001b[0m\u001b]8;id=267888;file:///Users/lenguyen/Desktop/0_Workspace/Github/banhxeo/src/banhxeo/utils/logging.py#30\u001b\\\u001b[2m30\u001b[0m\u001b]8;;\u001b\\\n",
       "\u001b[2;36m                      \u001b[0m         \u001b[33msmoothing\u001b[0m=\u001b[35madd_k\u001b[0m, \u001b[33mk\u001b[0m=\u001b[1;36m0\u001b[0m\u001b[1;36m.5\u001b[0m\u001b[1m)\u001b[0m                                                \u001b[2m             \u001b[0m\n"
      ]
     },
     "metadata": {},
     "output_type": "display_data"
    }
   ],
   "source": [
    "model = NGram(vocab=vocab, n=5, smoothing=\"add_k\", k=0.5)"
   ]
  },
  {
   "cell_type": "code",
   "execution_count": 17,
   "id": "42daafa0",
   "metadata": {},
   "outputs": [
    {
     "data": {
      "text/html": [
       "<pre style=\"white-space:pre;overflow-x:auto;line-height:normal;font-family:Menlo,'DejaVu Sans Mono',consolas,'Courier New',monospace\"><span style=\"color: #7fbfbf; text-decoration-color: #7fbfbf\">[2025-05-21-17:45:35] </span><span style=\"color: #008000; text-decoration-color: #008000\">DEBUG   </span> Counting <span style=\"color: #008080; text-decoration-color: #008080; font-weight: bold\">5</span>-grams<span style=\"color: #808000; text-decoration-color: #808000\">...</span>                                                    <a href=\"file:///Users/lenguyen/Desktop/0_Workspace/Github/banhxeo/src/banhxeo/utils/logging.py\" target=\"_blank\"><span style=\"color: #7f7f7f; text-decoration-color: #7f7f7f\">logging.py</span></a><span style=\"color: #7f7f7f; text-decoration-color: #7f7f7f\">:</span><a href=\"file:///Users/lenguyen/Desktop/0_Workspace/Github/banhxeo/src/banhxeo/utils/logging.py#33\" target=\"_blank\"><span style=\"color: #7f7f7f; text-decoration-color: #7f7f7f\">33</span></a>\n",
       "</pre>\n"
      ],
      "text/plain": [
       "\u001b[2;36m[2025-05-21-17:45:35]\u001b[0m\u001b[2;36m \u001b[0m\u001b[32mDEBUG   \u001b[0m Counting \u001b[1;36m5\u001b[0m-grams\u001b[33m...\u001b[0m                                                    \u001b]8;id=578849;file:///Users/lenguyen/Desktop/0_Workspace/Github/banhxeo/src/banhxeo/utils/logging.py\u001b\\\u001b[2mlogging.py\u001b[0m\u001b]8;;\u001b\\\u001b[2m:\u001b[0m\u001b]8;id=847564;file:///Users/lenguyen/Desktop/0_Workspace/Github/banhxeo/src/banhxeo/utils/logging.py#33\u001b\\\u001b[2m33\u001b[0m\u001b]8;;\u001b\\\n"
      ]
     },
     "metadata": {},
     "output_type": "display_data"
    },
    {
     "data": {
      "application/vnd.jupyter.widget-view+json": {
       "model_id": "ddf96bb70ff74e4c93fcbf31905cc8b3",
       "version_major": 2,
       "version_minor": 0
      },
      "text/plain": [
       "  0%|          | 0.00/1.00k [00:00<?, ?sentence/s]"
      ]
     },
     "metadata": {},
     "output_type": "display_data"
    }
   ],
   "source": [
    "model.fit(imdb_raw.get_all_texts()[:1000])  # Use only 1000 first samples"
   ]
  },
  {
   "cell_type": "code",
   "execution_count": 18,
   "id": "8ef330fc",
   "metadata": {},
   "outputs": [
    {
     "data": {
      "text/plain": [
       "\"a great film in it's own right, no, it's a great film to watch anytime,\""
      ]
     },
     "execution_count": 18,
     "metadata": {},
     "output_type": "execute_result"
    }
   ],
   "source": [
    "model.generate_sequence(\"This movie is\")"
   ]
  }
 ],
 "metadata": {
  "kernelspec": {
   "display_name": ".venv",
   "language": "python",
   "name": "python3"
  },
  "language_info": {
   "codemirror_mode": {
    "name": "ipython",
    "version": 3
   },
   "file_extension": ".py",
   "mimetype": "text/x-python",
   "name": "python",
   "nbconvert_exporter": "python",
   "pygments_lexer": "ipython3",
   "version": "3.9.6"
  }
 },
 "nbformat": 4,
 "nbformat_minor": 5
}
