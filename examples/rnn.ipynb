{
 "cells": [
  {
   "cell_type": "code",
   "execution_count": null,
   "id": "4884961e",
   "metadata": {},
   "outputs": [],
   "source": [
    "from banhxeo.data import AmazonReviewFullDataset"
   ]
  },
  {
   "cell_type": "code",
   "execution_count": null,
   "id": "690f8664",
   "metadata": {},
   "outputs": [
    {
     "name": "stderr",
     "output_type": "stream",
     "text": [
      "2025-05-25 12:43:05,534 [INFO]: Verifying MD5 for /Users/lenguyen/Desktop/0_Workspace/Github/banhxeo/examples/datasets/AmazonReview/amazon_review_full_csv.tar.gz...\n",
      "2025-05-25 12:43:06,579 [INFO]: MD5 checksum verified.\n"
     ]
    }
   ],
   "source": [
    "amazon_raw = AmazonReviewFullDataset(\"./\", split_name=\"test\")"
   ]
  },
  {
   "cell_type": "code",
   "execution_count": 3,
   "id": "cc4d4e3f",
   "metadata": {},
   "outputs": [
    {
     "data": {
      "text/html": [
       "<div><style>\n",
       ".dataframe > thead > tr,\n",
       ".dataframe > tbody > tr {\n",
       "  text-align: right;\n",
       "  white-space: pre-wrap;\n",
       "}\n",
       "</style>\n",
       "<small>shape: (650_000, 3)</small><table border=\"1\" class=\"dataframe\"><thead><tr><th>Polarity</th><th>Title</th><th>Review</th></tr><tr><td>i64</td><td>str</td><td>str</td></tr></thead><tbody><tr><td>1</td><td>&quot;mens ultrasheer&quot;</td><td>&quot;This model may be ok for seden…</td></tr><tr><td>4</td><td>&quot;Surprisingly delightful&quot;</td><td>&quot;This is a fast read filled wit…</td></tr><tr><td>2</td><td>&quot;Works, but not as advertised&quot;</td><td>&quot;I bought one of these chargers…</td></tr><tr><td>2</td><td>&quot;Oh dear&quot;</td><td>&quot;I was excited to find a book o…</td></tr><tr><td>2</td><td>&quot;Incorrect disc!&quot;</td><td>&quot;I am a big JVC fan, but I do n…</td></tr><tr><td>&hellip;</td><td>&hellip;</td><td>&hellip;</td></tr><tr><td>5</td><td>&quot;Pretty Cool!&quot;</td><td>&quot;We got it for our mom&#x27;s birthd…</td></tr><tr><td>5</td><td>&quot;great cd&quot;</td><td>&quot;this cd is very good. i especi…</td></tr><tr><td>2</td><td>&quot;An interesting look into Bosto…</td><td>&quot;This was a good documentary on…</td></tr><tr><td>5</td><td>&quot;Du vol...pour les cowboys!&quot;</td><td>&quot;Avez-vous déjà vu un CD double…</td></tr><tr><td>4</td><td>&quot;A Companion Read To GUNS, GERM…</td><td>&quot;If you like books that offer e…</td></tr></tbody></table></div>"
      ],
      "text/plain": [
       "shape: (650_000, 3)\n",
       "┌──────────┬─────────────────────────────────┬─────────────────────────────────┐\n",
       "│ Polarity ┆ Title                           ┆ Review                          │\n",
       "│ ---      ┆ ---                             ┆ ---                             │\n",
       "│ i64      ┆ str                             ┆ str                             │\n",
       "╞══════════╪═════════════════════════════════╪═════════════════════════════════╡\n",
       "│ 1        ┆ mens ultrasheer                 ┆ This model may be ok for seden… │\n",
       "│ 4        ┆ Surprisingly delightful         ┆ This is a fast read filled wit… │\n",
       "│ 2        ┆ Works, but not as advertised    ┆ I bought one of these chargers… │\n",
       "│ 2        ┆ Oh dear                         ┆ I was excited to find a book o… │\n",
       "│ 2        ┆ Incorrect disc!                 ┆ I am a big JVC fan, but I do n… │\n",
       "│ …        ┆ …                               ┆ …                               │\n",
       "│ 5        ┆ Pretty Cool!                    ┆ We got it for our mom's birthd… │\n",
       "│ 5        ┆ great cd                        ┆ this cd is very good. i especi… │\n",
       "│ 2        ┆ An interesting look into Bosto… ┆ This was a good documentary on… │\n",
       "│ 5        ┆ Du vol...pour les cowboys!      ┆ Avez-vous déjà vu un CD double… │\n",
       "│ 4        ┆ A Companion Read To GUNS, GERM… ┆ If you like books that offer e… │\n",
       "└──────────┴─────────────────────────────────┴─────────────────────────────────┘"
      ]
     },
     "execution_count": 3,
     "metadata": {},
     "output_type": "execute_result"
    }
   ],
   "source": [
    "amazon_raw.get_data()"
   ]
  },
  {
   "cell_type": "code",
   "execution_count": 4,
   "id": "224c08d7",
   "metadata": {},
   "outputs": [
    {
     "data": {
      "text/plain": [
       "{'Polarity': 1,\n",
       " 'Title': 'mens ultrasheer',\n",
       " 'Review': \"This model may be ok for sedentary types, but I'm active and get around alot in my job - consistently found these stockings rolled up down by my ankles! Not Good!! Solution: go with the standard compression stocking, 20-30, stock #114622. Excellent support, stays up and gives me what I need. Both pair of these also tore as I struggled to pull them up all the time. Good riddance/bad investment!\"}"
      ]
     },
     "execution_count": 4,
     "metadata": {},
     "output_type": "execute_result"
    }
   ],
   "source": [
    "amazon_raw[0]"
   ]
  },
  {
   "cell_type": "code",
   "execution_count": null,
   "id": "886f4031",
   "metadata": {},
   "outputs": [],
   "source": []
  }
 ],
 "metadata": {
  "kernelspec": {
   "display_name": ".venv",
   "language": "python",
   "name": "python3"
  },
  "language_info": {
   "codemirror_mode": {
    "name": "ipython",
    "version": 3
   },
   "file_extension": ".py",
   "mimetype": "text/x-python",
   "name": "python",
   "nbconvert_exporter": "python",
   "pygments_lexer": "ipython3",
   "version": "3.9.6"
  }
 },
 "nbformat": 4,
 "nbformat_minor": 5
}
