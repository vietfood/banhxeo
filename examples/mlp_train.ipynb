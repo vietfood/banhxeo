{
 "cells": [
  {
   "cell_type": "code",
   "execution_count": null,
   "id": "17a9cd3a",
   "metadata": {},
   "outputs": [],
   "source": [
    "from banhxeo.data import IMDBDataset\n",
    "from banhxeo.model import MLP\n",
    "from banhxeo.core import NLTKTokenizer, Vocabulary\n",
    "from banhxeo.data.transforms import RemoveHTMLTag, RemoveURL, Strip\n",
    "from banhxeo.train.config import OptimizerConfig, LossConfig, TrainerConfig\n",
    "from banhxeo.train.trainer import Trainer\n",
    "from banhxeo.train.callbacks import AccuracyCallback\n",
    "from banhxeo import GPU_DEVICE, CPU_DEVICE\n",
    "import torch"
   ]
  },
  {
   "cell_type": "markdown",
   "id": "7d1d927f",
   "metadata": {},
   "source": [
    "### Create dataset"
   ]
  },
  {
   "cell_type": "code",
   "execution_count": null,
   "id": "2dbb96bf",
   "metadata": {},
   "outputs": [],
   "source": [
    "train_raw = IMDBDataset(root_dir=\"./\", split_name=\"train\")\n",
    "test_raw = IMDBDataset(root_dir=\"./\", split_name=\"test\")"
   ]
  },
  {
   "cell_type": "code",
   "execution_count": null,
   "id": "7083b470",
   "metadata": {},
   "outputs": [],
   "source": [
    "train_raw.get_data()"
   ]
  },
  {
   "cell_type": "code",
   "execution_count": null,
   "id": "a23e5614",
   "metadata": {},
   "outputs": [],
   "source": [
    "test_raw.get_data()"
   ]
  },
  {
   "cell_type": "markdown",
   "id": "a98fe7c5",
   "metadata": {},
   "source": [
    "### Create Tokenizer and Vocabulary"
   ]
  },
  {
   "cell_type": "code",
   "execution_count": null,
   "id": "2381da25",
   "metadata": {},
   "outputs": [],
   "source": [
    "tokenizer = NLTKTokenizer()"
   ]
  },
  {
   "cell_type": "code",
   "execution_count": null,
   "id": "d822dd5d",
   "metadata": {},
   "outputs": [],
   "source": [
    "# vocab = Vocabulary.build(\n",
    "#     corpus=train_raw.get_all_texts(),\n",
    "#     tokenizer=tokenizer,\n",
    "#     pad_tok=\"<pad>\",\n",
    "#     unk_tok=\"<unk>\",\n",
    "#     sep_tok=\"<eos>\",\n",
    "#     bos_tok=\"bos_tok\",\n",
    "# )\n",
    "vocab = Vocabulary.load(\"./vocab/imdb_2.json\", tokenizer=tokenizer)"
   ]
  },
  {
   "cell_type": "code",
   "execution_count": null,
   "id": "b15f4510",
   "metadata": {},
   "outputs": [],
   "source": [
    "# vocab.save(\"./vocab/imdb_2.json\")"
   ]
  },
  {
   "cell_type": "markdown",
   "id": "1a138a85",
   "metadata": {},
   "source": [
    "### Move raw dataset to torch dataset"
   ]
  },
  {
   "cell_type": "code",
   "execution_count": null,
   "id": "3ba38d9c",
   "metadata": {},
   "outputs": [],
   "source": [
    "config = {\n",
    "    \"add_special_tokens\": True,\n",
    "    \"max_length\": 256,\n",
    "    \"truncation\": True,\n",
    "    \"padding\": True,\n",
    "    \"is_classification\": True,\n",
    "    \"transforms\": [RemoveURL(), RemoveHTMLTag(), Strip(metadata={\"lower\": True})],\n",
    "    \"label_map\": {\"pos\": 1, \"neg\": 0},\n",
    "    \"text_column_name\": \"content\",\n",
    "    \"label_column_name\": \"label\"\n",
    "}"
   ]
  },
  {
   "cell_type": "code",
   "execution_count": null,
   "id": "b9617fc3",
   "metadata": {},
   "outputs": [],
   "source": [
    "train_dataset = train_raw.to_torch_dataset(tokenizer=tokenizer, vocab=vocab, **config)"
   ]
  },
  {
   "cell_type": "code",
   "execution_count": null,
   "id": "6d7cd0b0",
   "metadata": {},
   "outputs": [],
   "source": [
    "test_dataset = test_raw.to_torch_dataset(tokenizer=tokenizer, vocab=vocab, **config)"
   ]
  },
  {
   "cell_type": "markdown",
   "id": "b77ed118",
   "metadata": {},
   "source": [
    "### Create MLP model"
   ]
  },
  {
   "cell_type": "code",
   "execution_count": null,
   "id": "1380ddec",
   "metadata": {},
   "outputs": [],
   "source": [
    "mlp_config = {\n",
    "    \"embedding_dim\": 128,\n",
    "    \"output_size\": 2,  # Binary classification (pos/neg)\n",
    "    \"hidden_sizes\": [256, 128],\n",
    "    \"activation_fn\": \"relu\",\n",
    "    \"dropout_rate\": 0.3,\n",
    "    \"aggregate_strategy\": \"average\",\n",
    "}"
   ]
  },
  {
   "cell_type": "code",
   "execution_count": null,
   "id": "cbfdf952",
   "metadata": {},
   "outputs": [],
   "source": [
    "model = MLP(vocab=vocab, **mlp_config)"
   ]
  },
  {
   "cell_type": "code",
   "execution_count": null,
   "id": "8acb62bc",
   "metadata": {},
   "outputs": [],
   "source": [
    "model.summary()"
   ]
  },
  {
   "cell_type": "code",
   "execution_count": null,
   "id": "aa64eba4",
   "metadata": {},
   "outputs": [],
   "source": [
    "### Remember to move model to GPU\n",
    "model = model.to_gpu()"
   ]
  },
  {
   "cell_type": "markdown",
   "id": "7db230ce",
   "metadata": {},
   "source": [
    "### Define training function for **one** step"
   ]
  },
  {
   "cell_type": "code",
   "execution_count": null,
   "id": "e770ee05",
   "metadata": {},
   "outputs": [],
   "source": [
    "optim_config = OptimizerConfig(\n",
    "    name=\"SGD\",\n",
    "    optimizer_kwargs={\n",
    "        \"lr\": 1e-4,  # Learning rate\n",
    "        \"weight_decay\": 0.01,\n",
    "    },\n",
    ")"
   ]
  },
  {
   "cell_type": "code",
   "execution_count": null,
   "id": "0ffc8ad1",
   "metadata": {},
   "outputs": [],
   "source": [
    "loss_config = LossConfig(name=\"CrossEntropyLoss\")"
   ]
  },
  {
   "cell_type": "code",
   "execution_count": null,
   "id": "caa04680",
   "metadata": {},
   "outputs": [],
   "source": [
    "trainer_config = TrainerConfig(\n",
    "    num_train_epochs=3,\n",
    "    per_device_eval_batch_size=32,\n",
    "    per_device_train_batch_size=32,\n",
    "    training_shuffle=True,\n",
    "    optim=optim_config,\n",
    "    loss=loss_config,\n",
    ")"
   ]
  },
  {
   "cell_type": "code",
   "execution_count": null,
   "id": "359d9458",
   "metadata": {},
   "outputs": [],
   "source": [
    "def mlp_train_step(\n",
    "    trainer,\n",
    "    model,\n",
    "    batch,\n",
    "):\n",
    "    # Remember to move data to device each time we loop\n",
    "    input_ids = batch[\"input_ids\"].to(GPU_DEVICE)\n",
    "    attention_mask = batch[\"attention_mask\"].to(GPU_DEVICE)\n",
    "    labels = batch[\"labels\"].to(\n",
    "        GPU_DEVICE\n",
    "    )  # For classification task, we usually have labels\n",
    "\n",
    "    # Output of forward pass (return a dictionary)\n",
    "    outputs = model(input_ids, attention_mask)\n",
    "\n",
    "    # Calculate loss\n",
    "    loss = trainer.loss(outputs[\"logits\"], labels)\n",
    "\n",
    "    # Calculate correct\n",
    "    _, predicted = torch.max(outputs[\"logits\"], dim=1)\n",
    "    correct = (predicted == labels).sum().item()\n",
    "    total = labels.size(0)\n",
    "\n",
    "    # Backward pass\n",
    "    loss.backward()\n",
    "\n",
    "    # Step and then zero optimizer\n",
    "    trainer.optimizer.step()\n",
    "    trainer.optimizer.zero_grad()\n",
    "\n",
    "    return {\"loss\": loss.item(), \"correct\": correct, \"total\": total}"
   ]
  },
  {
   "cell_type": "code",
   "execution_count": null,
   "id": "2bc44f4d",
   "metadata": {},
   "outputs": [],
   "source": [
    "def mlp_eval_step(trainer,model,batch):\n",
    "    # Remember to move data to device each time we loop\n",
    "    input_ids = batch[\"input_ids\"].to(GPU_DEVICE)\n",
    "    attention_mask = batch[\"attention_mask\"].to(GPU_DEVICE)\n",
    "    labels = batch[\"labels\"].to(\n",
    "        GPU_DEVICE\n",
    "    )  # For classification task, we usually have labels\n",
    "\n",
    "    # Output of forward pass (return a dictionary)\n",
    "    outputs = model(input_ids, attention_mask)\n",
    "\n",
    "    # Calculate loss\n",
    "    loss_val = trainer.loss(outputs[\"logits\"], labels).item()\n",
    "\n",
    "    return {\"eval_loss\": loss_val}"
   ]
  },
  {
   "cell_type": "code",
   "execution_count": null,
   "id": "d41d5e90",
   "metadata": {},
   "outputs": [],
   "source": [
    "trainer = Trainer(\n",
    "    model=model,\n",
    "    config=trainer_config,\n",
    "    train_dataset=train_dataset,\n",
    "    eval_dataset=test_dataset,\n",
    "    train_step_fn=mlp_train_step,\n",
    "    eval_step_fn=mlp_eval_step,\n",
    "    callbacks=[AccuracyCallback()],\n",
    "    device=GPU_DEVICE,\n",
    ")"
   ]
  },
  {
   "cell_type": "code",
   "execution_count": null,
   "id": "a32503ac",
   "metadata": {},
   "outputs": [],
   "source": [
    "trainer.train()"
   ]
  },
  {
   "cell_type": "code",
   "execution_count": null,
   "id": "7a7ad6ad",
   "metadata": {},
   "outputs": [],
   "source": [
    "# Testing\n",
    "trainer.evaluate()"
   ]
  }
 ],
 "metadata": {
  "kernelspec": {
   "display_name": ".venv",
   "language": "python",
   "name": "python3"
  },
  "language_info": {
   "codemirror_mode": {
    "name": "ipython",
    "version": 3
   },
   "file_extension": ".py",
   "mimetype": "text/x-python",
   "name": "python",
   "nbconvert_exporter": "python",
   "pygments_lexer": "ipython3",
   "version": "3.9.6"
  }
 },
 "nbformat": 4,
 "nbformat_minor": 5
}
