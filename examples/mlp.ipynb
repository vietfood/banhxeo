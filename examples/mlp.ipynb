{
 "cells": [
  {
   "cell_type": "code",
   "execution_count": null,
   "id": "9ceede8a",
   "metadata": {},
   "outputs": [],
   "source": [
    "# %pip install banhxeo (run on Colab or Kaggle)"
   ]
  },
  {
   "cell_type": "code",
   "execution_count": null,
   "id": "97d6034f",
   "metadata": {},
   "outputs": [],
   "source": [
    "from banhxeo.dataset import IMDBDataset\n",
    "from banhxeo.core.tokenizer import NLTKTokenizer\n",
    "from banhxeo.core.vocabulary import Vocabulary\n",
    "from banhxeo.dataset.transforms import (\n",
    "    RemoveHTMLTag,\n",
    "    RemovePunctuation,\n",
    "    RemoveURL,\n",
    "    Strip,\n",
    ")\n",
    "from banhxeo.models.neural.mlp import MLP\n",
    "from torch.utils.data import DataLoader"
   ]
  },
  {
   "cell_type": "markdown",
   "id": "58771594",
   "metadata": {},
   "source": [
    "### Create raw dataset"
   ]
  },
  {
   "cell_type": "code",
   "execution_count": null,
   "id": "0b1be924",
   "metadata": {},
   "outputs": [],
   "source": [
    "# Load raw data\n",
    "raw_imdb = IMDBDataset(\"./\", split=\"train\")"
   ]
  },
  {
   "cell_type": "code",
   "execution_count": null,
   "id": "77941cf1",
   "metadata": {},
   "outputs": [],
   "source": [
    "print(raw_imdb.data)"
   ]
  },
  {
   "cell_type": "code",
   "execution_count": null,
   "id": "7ce40154",
   "metadata": {},
   "outputs": [],
   "source": [
    "raw_imdb.text_data[:5]"
   ]
  },
  {
   "cell_type": "markdown",
   "id": "e6d13ddb",
   "metadata": {},
   "source": [
    "### Create tokenizer and vocabulary"
   ]
  },
  {
   "cell_type": "code",
   "execution_count": null,
   "id": "47c08b6b",
   "metadata": {},
   "outputs": [],
   "source": [
    "tokenizer = NLTKTokenizer()"
   ]
  },
  {
   "cell_type": "code",
   "execution_count": null,
   "id": "78d4826c",
   "metadata": {},
   "outputs": [],
   "source": [
    "#vocab = Vocabulary.build(corpus=raw_imdb.text_data, tokenizer=tokenizer)\n",
    "vocab = Vocabulary.load(path=\"vocab/imdb.json\", tokenizer=tokenizer)"
   ]
  },
  {
   "cell_type": "code",
   "execution_count": null,
   "id": "c67e2cda",
   "metadata": {},
   "outputs": [],
   "source": [
    "vocab.idx_to_token[100:120]"
   ]
  },
  {
   "cell_type": "code",
   "execution_count": null,
   "id": "15b18a29",
   "metadata": {},
   "outputs": [],
   "source": [
    "vocab.save(\"vocab/imdb.json\")"
   ]
  },
  {
   "cell_type": "markdown",
   "id": "5cfa31ef",
   "metadata": {},
   "source": [
    "### Create torch dataset and dataloader"
   ]
  },
  {
   "cell_type": "code",
   "execution_count": null,
   "id": "888b0a5d",
   "metadata": {},
   "outputs": [],
   "source": [
    "train_imdb = raw_imdb.to_torch_dataset(\n",
    "    vocab=vocab,\n",
    "    tokenizer=tokenizer,\n",
    "    add_special_tokens=True,\n",
    "    max_length=128,\n",
    "    padding=True,\n",
    "    truncation=True,\n",
    "    transforms=[\n",
    "        RemoveURL(),\n",
    "        RemoveHTMLTag(),\n",
    "        RemovePunctuation(),\n",
    "        Strip(metadata={\"lower\": True}),\n",
    "    ],\n",
    ")"
   ]
  },
  {
   "cell_type": "code",
   "execution_count": null,
   "id": "6dd919c8",
   "metadata": {},
   "outputs": [],
   "source": [
    "train_loader = DataLoader(train_imdb, batch_size=32, num_workers=2, shuffle=True)"
   ]
  },
  {
   "cell_type": "markdown",
   "id": "a1af4b45",
   "metadata": {},
   "source": [
    "### Train model"
   ]
  },
  {
   "cell_type": "code",
   "execution_count": null,
   "id": "0bc47036",
   "metadata": {},
   "outputs": [],
   "source": [
    "model = MLP(vocab=vocab, output_size=2, hidden_sizes=[256, 128])"
   ]
  },
  {
   "cell_type": "code",
   "execution_count": null,
   "id": "2a99186a",
   "metadata": {},
   "outputs": [],
   "source": [
    "model.to_gpu()"
   ]
  }
 ],
 "metadata": {
  "kernelspec": {
   "display_name": ".venv",
   "language": "python",
   "name": "python3"
  },
  "language_info": {
   "codemirror_mode": {
    "name": "ipython",
    "version": 3
   },
   "file_extension": ".py",
   "mimetype": "text/x-python",
   "name": "python",
   "nbconvert_exporter": "python",
   "pygments_lexer": "ipython3",
   "version": "3.9.6"
  }
 },
 "nbformat": 4,
 "nbformat_minor": 5
}
